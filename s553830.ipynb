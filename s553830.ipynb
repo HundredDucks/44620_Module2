{
 "cells": [
  {
   "cell_type": "markdown",
   "id": "57196d29",
   "metadata": {},
   "source": [
    "# Zach Fuller"
   ]
  },
  {
   "cell_type": "markdown",
   "id": "cc768703",
   "metadata": {},
   "source": [
    "## This took me a long time and a lot of googling. I know that that the shape isn't exactly right, but I figured this is as close I'm getting. I read online that these pattern creations are common tests for potential job candidates. I would be interested to cover this in a later section if possible."
   ]
  },
  {
   "cell_type": "code",
   "execution_count": 59,
   "id": "c1db9485",
   "metadata": {},
   "outputs": [
    {
     "name": "stdout",
     "output_type": "stream",
     "text": [
      "                \n",
      "*             * \n",
      "* *         * * \n",
      "* * *     * * * \n",
      "* * * * * * * * \n"
     ]
    }
   ],
   "source": [
    "n = 4\n",
    "row = n\n",
    "while (row >= 0) :\n",
    "    # Prints first half of the stars\n",
    "    col = n\n",
    "    while (col > row) :\n",
    "        print(\"* \", end =\"\")\n",
    "        col -= 1\n",
    "        \n",
    "    # Prints space in between\n",
    "    col = 1\n",
    "    while (col <= 4 * row) :\n",
    "        print(\" \", end =\"\")\n",
    "        col += 1\n",
    "        \n",
    "    # Prints second half of the stars\n",
    "    col = row + 1\n",
    "    while (col <= n) :\n",
    "        print(\"* \", end='')\n",
    "        col += 1\n",
    "        \n",
    "    # Goes to a new line\n",
    "    print()\n",
    "    row -= 1"
   ]
  },
  {
   "cell_type": "code",
   "execution_count": null,
   "id": "07bbee55",
   "metadata": {},
   "outputs": [],
   "source": []
  }
 ],
 "metadata": {
  "kernelspec": {
   "display_name": "Python 3 (ipykernel)",
   "language": "python",
   "name": "python3"
  },
  "language_info": {
   "codemirror_mode": {
    "name": "ipython",
    "version": 3
   },
   "file_extension": ".py",
   "mimetype": "text/x-python",
   "name": "python",
   "nbconvert_exporter": "python",
   "pygments_lexer": "ipython3",
   "version": "3.9.12"
  }
 },
 "nbformat": 4,
 "nbformat_minor": 5
}
